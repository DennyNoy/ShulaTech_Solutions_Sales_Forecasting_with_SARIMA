{
 "cells": [
  {
   "cell_type": "markdown",
   "id": "5027111c-7566-407c-8336-13f3a70eb021",
   "metadata": {},
   "source": [
    "### Supperstore Sales Forecasting with SARIMA\n",
    "#### 1. Introduction\n",
    "##### This project focuses on implementing SARIMA to forecast monthly sales for Superstore.\n",
    "##### The objectives are:\n",
    "- ##### To analyze historical sales trends\n",
    "- ##### To remove trend and seasonality for better forecasting\n",
    "- ##### To generate accurate 12-month forecasts using both generic and rolling methods.\n",
    "- ##### To evaluate the model(s) performance using RMSE and MAPE"
   ]
  },
  {
   "cell_type": "code",
   "execution_count": null,
   "id": "7901bd0f-caa5-4b17-9b0e-2d63d6414ac2",
   "metadata": {},
   "outputs": [],
   "source": [
    "# Getting necessary libraries\n",
    "import pandas as pd\n",
    "import numpy as np\n",
    "import matplotlib.pyplot as plt\n",
    "import seaborn as sns\n",
    "import plotly.graph_objects as go\n",
    "import plotly.io as pio\n",
    "from statsmodels.tsa.seasonal import seasonal_decompose\n",
    "from statsmodels.tsa.stattools import adfuller\n",
    "from statsmodels.tsa.statespace.sarimax import SARIMAX\n",
    "from pmdarima import auto_arima\n",
    "from sklearn.metrics import mean_squared_error\n",
    "import warnings\n",
    "warnings.filterwarnings(\"ignore\")"
   ]
  },
  {
   "cell_type": "markdown",
   "id": "0c294747-7947-4ad8-b6a8-f74f66fb122b",
   "metadata": {},
   "source": [
    "#### 2. Data Preparation & Trend Analysis\n",
    "##### The dataset contains monthly sales from 01-Jan-2011 to 31-Dec-2014\n",
    "##### Key Trend Observations:\n",
    "- ##### Sales exhibit strong seasonality with recurring dips and peaks in the 1st and 4th quarters respectively for the three years\n",
    "- ##### A general upward trend is observed in the dataset.\n",
    "##### This justifies the use of seasonal ARIMA"
   ]
  },
  {
   "cell_type": "code",
   "execution_count": null,
   "id": "cfe3e65a-5b7e-47b3-870d-b33ea38ae453",
   "metadata": {},
   "outputs": [],
   "source": [
    "# Loading the dataset\n",
    "df = pd.read_excel(\"superstore_sales.xlsx\", parse_dates=[\"order_date\"])\n",
    "df.set_index(\"order_date\", inplace=True)\n",
    "\n",
    "# Aggregating sales data to monthly level\n",
    "monthly_sales = df[\"sales\"].resample(\"M\").sum()\n",
    "\n",
    "# Plotting the sales trend\n",
    "fig = go.Figure()\n",
    "fig.add_trace(go.Scatter(x=monthly_sales.index, y=monthly_sales, mode='lines', name='Monthly Sales'))\n",
    "fig.update_layout(title='Monthly Sales Trend', xaxis_title='Date', yaxis_title='Sales')\n",
    "pio.show(fig)"
   ]
  },
  {
   "cell_type": "markdown",
   "id": "0c968b4a-610f-459a-a82e-833b0c6ce901",
   "metadata": {},
   "source": [
    "#### 3. Stationarity Check & Differencing\n"
   ]
  },
  {
   "cell_type": "code",
   "execution_count": null,
   "id": "ce3d8acd-bbbe-4b8f-84bc-dc07517c6546",
   "metadata": {},
   "outputs": [],
   "source": [
    "# ADF Test for stationarity\n",
    "def adf_test(series):\n",
    "    result = adfuller(series)\n",
    "    print(\"ADF Statistic:\", result[0])\n",
    "    print(\"p-value:\", result[1])\n",
    "    if result[1] > 0.05:\n",
    "        print(\"Data is not stationary. Differencing is needed.\")\n",
    "    else:\n",
    "        print(\"Data is stationary.\")\n",
    "\n",
    "adf_test(monthly_sales)"
   ]
  },
  {
   "cell_type": "markdown",
   "id": "c5d80116-daa0-4926-821e-70056c53bda0",
   "metadata": {},
   "source": [
    "##### ADF Test Results: The original time series was not stationary (p-value = 0.988)\n",
    "##### I therefore applied First-order differencing followed by seasonal differencing (lag=12), achieving stationarity (p-value = 3.708)"
   ]
  },
  {
   "cell_type": "code",
   "execution_count": null,
   "id": "43ef596d-a3a4-4bbb-a32a-135a196b5588",
   "metadata": {},
   "outputs": [],
   "source": [
    "# First-order differencing\n",
    "diff_sales = monthly_sales.diff().dropna()\n",
    "adf_test(diff_sales)\n",
    "\n",
    "# Seasonal differencing (period=12)\n",
    "seasonal_diff_sales = diff_sales.diff(12).dropna()\n",
    "adf_test(seasonal_diff_sales)\n"
   ]
  },
  {
   "cell_type": "markdown",
   "id": "4ed7a9be-a66f-4914-b613-0c2d71058ed8",
   "metadata": {},
   "source": [
    "##### Performing Time Series Decomposition to verify the presence of both trend and seasonal components, reinforcing the need for differencing."
   ]
  },
  {
   "cell_type": "code",
   "execution_count": null,
   "id": "5ebdc8e9-c622-41b3-9645-e2db7d2a460b",
   "metadata": {},
   "outputs": [],
   "source": [
    "# Decomposition\n",
    "result = seasonal_decompose(monthly_sales, model='additive', period=12)\n",
    "fig = go.Figure()\n",
    "fig.add_trace(go.Scatter(x=monthly_sales.index, y=result.trend, mode='lines', name='Trend'))\n",
    "fig.update_layout(title='Trend Component', xaxis_title='Date', yaxis_title='Sales')\n",
    "pio.show(fig)\n",
    "\n",
    "fig = go.Figure()\n",
    "fig.add_trace(go.Scatter(x=monthly_sales.index, y=result.seasonal, mode='lines', name='Seasonality'))\n",
    "fig.update_layout(title='Seasonality Component', xaxis_title='Date', yaxis_title='Sales')\n",
    "pio.show(fig)\n"
   ]
  },
  {
   "cell_type": "markdown",
   "id": "e2deb8c1-cba4-463d-a3cc-d957fd6f0fc3",
   "metadata": {},
   "source": [
    "#### 4. SARIMA Model Selection & Performance"
   ]
  },
  {
   "cell_type": "code",
   "execution_count": null,
   "id": "7e6ee529-1f36-4bdf-a6f1-e4a57331837d",
   "metadata": {},
   "outputs": [],
   "source": [
    "# Train-test split\n",
    "train = monthly_sales[:-12]\n",
    "test = monthly_sales[-12:]\n",
    "\n",
    "# Auto-SARIMA model selection\n",
    "sarima_model = auto_arima(train, seasonal=True, m=12, stepwise=True, trace=True)\n",
    "best_order, best_seasonal_order = sarima_model.order, sarima_model.seasonal_order\n",
    "print(f\"Optimal SARIMA Order: {best_order}, Seasonal Order: {best_seasonal_order}\")"
   ]
  },
  {
   "cell_type": "markdown",
   "id": "3be62c80-cba7-4aff-be6d-f8d3baaf1b45",
   "metadata": {},
   "source": [
    "##### The optimal model is SARIMA(0,0,0)(2,1,0,12) identified via auto_arima.\n",
    "##### I used this values to train the SARIMA model as follows:"
   ]
  },
  {
   "cell_type": "code",
   "execution_count": null,
   "id": "aac31611-3b6b-4f74-9507-2eafdd674189",
   "metadata": {},
   "outputs": [],
   "source": [
    "# Train SARIMA model with optimized parameters\n",
    "sarima = SARIMAX(train, order=(0, 0, 0), seasonal_order=(2, 1, 0, 12))\n",
    "sarima_fit = sarima.fit()"
   ]
  },
  {
   "cell_type": "markdown",
   "id": "20708191-5cd8-4eb4-824b-ebfa0e415b6e",
   "metadata": {},
   "source": [
    "#### 5. Sales Forecast Results\n",
    "##### Generic Forecast (One-time 12-month prediction)\n",
    "##### The model forecasts the next 12 months based on historical patterns."
   ]
  },
  {
   "cell_type": "code",
   "execution_count": null,
   "id": "569efe68-b5a9-4ee0-9ae5-ceaa76e3f4bd",
   "metadata": {},
   "outputs": [],
   "source": [
    "# Generic/Fixed Forecasting\n",
    "forecast = sarima_fit.get_forecast(steps=12)\n",
    "forecast_ci = forecast.conf_int()\n",
    "\n",
    "fig = go.Figure()\n",
    "fig.add_trace(go.Scatter(x=train.index, y=train, mode='lines', name='Actual Sales'))\n",
    "fig.add_trace(go.Scatter(x=test.index, y=test, mode='lines', name='Test Data', line=dict(dash='dot')))\n",
    "fig.add_trace(go.Scatter(x=forecast.predicted_mean.index, y=forecast.predicted_mean, mode='lines', name='SARIMA Forecast', line=dict(color='red')))\n",
    "fig.update_layout(title='12-Month SARIMA Forecast', xaxis_title='Date', yaxis_title='Sales')\n",
    "pio.show(fig)"
   ]
  },
  {
   "cell_type": "markdown",
   "id": "a96d4eac-b1c2-4f34-94ba-7afcc9a7af19",
   "metadata": {},
   "source": [
    "#### Rolling Forecast (Step-by-step prediction)\n",
    "#### Rolling forecasting updates predictions iteratively, adapting to recent sales trends."
   ]
  },
  {
   "cell_type": "code",
   "execution_count": null,
   "id": "cbf1b96d-12eb-4b6d-9f02-6b9c579151f8",
   "metadata": {},
   "outputs": [],
   "source": [
    "# Rolling Forecasting - Using Best SARIMA Order\n",
    "rolling_predictions = []\n",
    "history = list(train)\n",
    "\n",
    "for i in range(len(test)):\n",
    "    model = SARIMAX(history, order=(0, 0, 0), seasonal_order=(2, 1, 0, 12))\n",
    "    model_fit = model.fit()\n",
    "    pred = model_fit.forecast()[0]\n",
    "    rolling_predictions.append(pred)\n",
    "    history.append(test.iloc[i])\n",
    "rolling_predictions = pd.Series(rolling_predictions, index=test.index)\n",
    "\n",
    "fig = go.Figure()\n",
    "fig.add_trace(go.Scatter(x=train.index, y=train, mode='lines', name='Actual Sales'))\n",
    "fig.add_trace(go.Scatter(x=test.index, y=test, mode='lines', name='Test Data', line=dict(dash='dot')))\n",
    "fig.add_trace(go.Scatter(x=rolling_predictions.index, y=rolling_predictions, mode='lines', name='Rolling SARIMA Forecast', line=dict(color='green')))\n",
    "fig.update_layout(title='Rolling SARIMA Forecast', xaxis_title='Date', yaxis_title='Sales')\n",
    "pio.show(fig)"
   ]
  },
  {
   "cell_type": "markdown",
   "id": "885aae1c-70a6-423a-8c47-b3f055fb064a",
   "metadata": {},
   "source": [
    "#### 6. Model Evaluation"
   ]
  },
  {
   "cell_type": "code",
   "execution_count": null,
   "id": "8d6011f5-a8ee-4d77-b8e4-6c2f5cce47d3",
   "metadata": {},
   "outputs": [],
   "source": [
    "# Calculating RMSE and MAPE\n",
    "def evaluate_forecast(actual, predicted, model_name):\n",
    "    rmse = np.sqrt(mean_squared_error(actual, predicted))\n",
    "    mape = np.mean(np.abs((actual - predicted) / actual)) * 100\n",
    "    print(f\"🔹 {model_name} - RMSE: {rmse:.2f}, MAPE: {mape:.2f}%\")\n",
    "    return rmse, mape\n",
    "\n",
    "# Evaluating Generic SARIMA Forecast\n",
    "generic_rmse, generic_mape = evaluate_forecast(test, forecast.predicted_mean, \"Generic SARIMA\")\n",
    "\n",
    "# Evaluating Rolling SARIMA Forecast\n",
    "rolling_rmse, rolling_mape = evaluate_forecast(test, rolling_predictions, \"Rolling SARIMA\")\n",
    "\n",
    "# Summary Table\n",
    "evaluation_results = pd.DataFrame({\n",
    "    \"Model\": [\"Generic SARIMA\", \"Rolling SARIMA\"],\n",
    "    \"RMSE\": [generic_rmse, rolling_rmse],\n",
    "    \"MAPE (%)\": [generic_mape, rolling_mape]\n",
    "})\n",
    "\n",
    "print(\"\\nModel Evaluation Summary:\")\n",
    "print(evaluation_results)\n"
   ]
  },
  {
   "cell_type": "markdown",
   "id": "9ee2ca5a-0982-46b3-9719-ddcb4ede38f0",
   "metadata": {},
   "source": [
    "##### The Generic SARIMA and Rolling SARIMA models produced very similar results:\n",
    "- ##### Generic SARIMA: RMSE = 79,301.46, MAPE = 15.47%\n",
    "- ##### Rolling SARIMA: RMSE = 79,209.05, MAPE = 15.62%\n",
    "##### Interpretation of Results\n",
    "- ##### Low RMSE values → Both models provide similar forecasting accuracy.\n",
    "- ##### MAPE around 15% → Forecasts have a moderate error rate (considered reasonable for business forecasting).\n",
    "- ##### Rolling SARIMA has slightly lower RMSE → Rolling updates may provide minor improvements, but the difference is minimal."
   ]
  },
  {
   "cell_type": "markdown",
   "id": "3f783554-6354-420e-98b1-e01a612d122e",
   "metadata": {},
   "source": [
    "\n",
    "#### 7. Business Insights & Recommendations\n",
    "##### Peak Sales Periods: Higher sales expected in the 4th quarter. Superstore should increase inventory and marketing efforts.\n",
    "##### Low Sales Periods: Lower sales are expected in the first quarter. Promotions and discounts can help maintain revenue during these months.\n",
    "##### Model Enhancements: Future iterations could incorporate external factors like promotions, economic trends, or weather impacts."
   ]
  }
 ],
 "metadata": {
  "kernelspec": {
   "display_name": "Python 3 (ipykernel)",
   "language": "python",
   "name": "python3"
  },
  "language_info": {
   "codemirror_mode": {
    "name": "ipython",
    "version": 3
   },
   "file_extension": ".py",
   "mimetype": "text/x-python",
   "name": "python",
   "nbconvert_exporter": "python",
   "pygments_lexer": "ipython3",
   "version": "3.10.10"
  }
 },
 "nbformat": 4,
 "nbformat_minor": 5
}
